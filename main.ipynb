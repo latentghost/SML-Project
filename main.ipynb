{
 "cells": [
  {
   "cell_type": "code",
   "execution_count": 510,
   "metadata": {},
   "outputs": [],
   "source": [
    "import numpy as np\n",
    "import pandas as pd"
   ]
  },
  {
   "cell_type": "code",
   "execution_count": 511,
   "metadata": {},
   "outputs": [],
   "source": [
    "from sklearn.cluster import KMeans\n",
    "from sklearn.decomposition import PCA\n",
    "from sklearn.preprocessing import StandardScaler\n",
    "from sklearn.preprocessing import LabelEncoder\n",
    "from sklearn.model_selection import train_test_split\n",
    "from sklearn.neighbors import LocalOutlierFactor\n",
    "from sklearn.linear_model import LogisticRegression\n",
    "from sklearn.metrics import accuracy_score"
   ]
  },
  {
   "cell_type": "code",
   "execution_count": 512,
   "metadata": {},
   "outputs": [],
   "source": [
    "def dimension_reduction(inp,comp):\n",
    "    pca = PCA(n_components=comp)\n",
    "\n",
    "    pca.fit(inp)\n",
    "    inp_pca = pca.transform(inp)\n",
    "\n",
    "    return inp_pca"
   ]
  },
  {
   "cell_type": "code",
   "execution_count": 513,
   "metadata": {},
   "outputs": [],
   "source": [
    "def clustering(inp, num_clusters):\n",
    "    kmeans = KMeans(n_clusters = num_clusters, n_init=10, random_state = 0).fit(inp)\n",
    "    cluster_ids = kmeans.labels_\n",
    "    final = np.column_stack((inp, cluster_ids))\n",
    "    return final"
   ]
  },
  {
   "cell_type": "code",
   "execution_count": 514,
   "metadata": {},
   "outputs": [],
   "source": [
    "def outlier_detection(inp,labels):\n",
    "    full = np.column_stack((inp,labels))\n",
    "    lof = LocalOutlierFactor(n_neighbors=120,contamination=0.1)\n",
    "    preds = lof.fit_predict(inp)\n",
    "\n",
    "    out_array = np.empty((0,full.shape[1]))\n",
    "    for i in range(len(preds)):\n",
    "        if(preds[i]==1):\n",
    "            out_array = np.vstack((out_array, full[i]))\n",
    "            \n",
    "    return out_array"
   ]
  },
  {
   "cell_type": "code",
   "execution_count": 515,
   "metadata": {},
   "outputs": [],
   "source": [
    "def classification(X_train, Y_train, X_test, iterations):\n",
    "    scaler = StandardScaler()\n",
    "    X_train = scaler.fit_transform(X_train)\n",
    "    X_test = scaler.transform(X_test)\n",
    "    \n",
    "    logreg = LogisticRegression(multi_class='multinomial', solver='lbfgs', max_iter=iterations)\n",
    "    logreg.fit(X_train, Y_train)\n",
    "    y_pred = logreg.predict(X_test)\n",
    "    return y_pred"
   ]
  },
  {
   "cell_type": "code",
   "execution_count": 516,
   "metadata": {},
   "outputs": [],
   "source": [
    "readtrain = pd.read_csv(\"train.csv\")\n",
    "\n",
    "mapping = {index: value for index,value in enumerate(readtrain['category'].unique())}\n",
    "\n",
    "le = LabelEncoder()\n",
    "readtrain['category'] = le.fit_transform(readtrain['category'])\n",
    "\n",
    "labels = readtrain['category'].to_numpy()\n",
    "readtrain = readtrain.drop(['ID'],axis=1)\n",
    "data = readtrain.drop(['category'],axis=1).to_numpy()\n",
    "\n",
    "testdata = pd.read_csv(\"test.csv\")\n",
    "testdata = testdata.drop(['ID'],axis=1).to_numpy()"
   ]
  },
  {
   "cell_type": "code",
   "execution_count": 517,
   "metadata": {},
   "outputs": [],
   "source": [
    "# data = dimension_reduction(data,90)\n",
    "# data = clustering(data, 50)\n",
    "full = outlier_detection(data,labels)\n",
    "labels = full[:,-1]\n",
    "data = full[:,:-1]"
   ]
  },
  {
   "cell_type": "code",
   "execution_count": 518,
   "metadata": {},
   "outputs": [],
   "source": [
    "# X_train, X_test, Y_train, Y_test = train_test_split(data,labels,test_size=0.25,random_state=100)\n",
    "Y_pred = classification(data,labels,testdata,10000)"
   ]
  },
  {
   "cell_type": "code",
   "execution_count": 519,
   "metadata": {},
   "outputs": [],
   "source": [
    "out_array = []\n",
    "for i,y in enumerate(Y_pred):\n",
    "    out_array.append(mapping[y])\n",
    "\n",
    "out_array = (np.array(out_array)).astype('str')"
   ]
  },
  {
   "cell_type": "code",
   "execution_count": 520,
   "metadata": {},
   "outputs": [],
   "source": [
    "output = np.column_stack((np.arange(len(out_array)),out_array))\n",
    "np.savetxt(\"output.csv\",output,delimiter=\",\",header=\"ID,Category\",fmt=\"%s\")"
   ]
  },
  {
   "cell_type": "code",
   "execution_count": 521,
   "metadata": {},
   "outputs": [],
   "source": [
    "# print(accuracy_score(Y_test,Y_pred))"
   ]
  },
  {
   "cell_type": "code",
   "execution_count": 522,
   "metadata": {},
   "outputs": [
    {
     "name": "stdout",
     "output_type": "stream",
     "text": [
      "['Strawberry_Raw' 'Leeche_Ripe' 'Banana_Raw' 'Coconut_Raw' 'Papaya_Raw'\n",
      " 'Leeche_Raw' 'Papaya_Ripe' 'Banana_Ripe' 'Papaya_Ripe' 'Papaya_Ripe'\n",
      " 'Orange_Raw' 'Leeche_Raw' 'Strawberry_Raw' 'Strawberry_Ripe' 'Apple_Ripe'\n",
      " 'Guava_Raw' 'Leeche_Ripe' 'Mango_Raw' 'Apple_Raw' 'Strawberry_Raw'\n",
      " 'Guava_Ripe' 'Leeche_Raw' 'Apple_Ripe' 'Coconut_Ripe' 'Leeche_Ripe'\n",
      " 'Orange_Raw' 'Orange_Ripe' 'Papaya_Raw' 'Papaya_Ripe' 'Papaya_Raw'\n",
      " 'Leeche_Raw' 'Banana_Ripe' 'Coconut_Raw' 'Mango_Raw' 'Strawberry_Raw'\n",
      " 'Mango_Ripe' 'Banana_Ripe' 'Leeche_Ripe' 'Leeche_Ripe' 'Banana_Raw'\n",
      " 'Guava_Ripe' 'Strawberry_Ripe' 'Pomengranate_Ripe' 'Pomengranate_Raw'\n",
      " 'Pomengranate_Ripe' 'Banana_Ripe' 'Pomengranate_Ripe' 'Banana_Ripe'\n",
      " 'Leeche_Raw' 'Pomengranate_Raw' 'Strawberry_Ripe' 'Apple_Raw'\n",
      " 'Strawberry_Raw' 'Apple_Raw' 'Banana_Ripe' 'Guava_Raw' 'Pomengranate_Raw'\n",
      " 'Strawberry_Raw' 'Mango_Ripe' 'Orange_Raw' 'Leeche_Raw' 'Guava_Ripe'\n",
      " 'Orange_Ripe' 'Coconut_Ripe' 'Coconut_Raw' 'Orange_Ripe' 'Strawberry_Raw'\n",
      " 'Guava_Ripe' 'Guava_Ripe' 'Coconut_Ripe' 'Apple_Ripe' 'Coconut_Raw'\n",
      " 'Apple_Raw' 'Pomengranate_Raw' 'Mango_Ripe' 'Apple_Ripe' 'Papaya_Ripe'\n",
      " 'Papaya_Raw' 'Mango_Raw' 'Strawberry_Ripe' 'Strawberry_Raw' 'Orange_Ripe'\n",
      " 'Banana_Ripe' 'Papaya_Ripe' 'Strawberry_Ripe' 'Leeche_Raw'\n",
      " 'Strawberry_Raw' 'Pomengranate_Raw' 'Leeche_Raw' 'Leeche_Ripe'\n",
      " 'Coconut_Ripe' 'Pomengranate_Raw' 'Coconut_Ripe' 'Banana_Ripe'\n",
      " 'Apple_Raw' 'Orange_Ripe' 'Pomengranate_Ripe' 'Orange_Ripe' 'Leeche_Raw'\n",
      " 'Coconut_Ripe' 'Leeche_Ripe' 'Papaya_Raw' 'Coconut_Ripe' 'Papaya_Ripe'\n",
      " 'Papaya_Raw' 'Banana_Ripe' 'Orange_Ripe' 'Apple_Raw' 'Banana_Ripe'\n",
      " 'Orange_Raw' 'Mango_Ripe' 'Coconut_Raw' 'Coconut_Raw' 'Apple_Raw'\n",
      " 'Apple_Raw' 'Pomengranate_Raw' 'Coconut_Raw' 'Pomengranate_Raw'\n",
      " 'Banana_Raw' 'Guava_Ripe' 'Banana_Ripe' 'Pomengranate_Raw' 'Papaya_Ripe'\n",
      " 'Orange_Ripe' 'Guava_Ripe' 'Papaya_Raw' 'Papaya_Raw' 'Banana_Ripe'\n",
      " 'Leeche_Ripe' 'Orange_Raw' 'Papaya_Ripe' 'Leeche_Ripe' 'Coconut_Raw'\n",
      " 'Strawberry_Ripe' 'Pomengranate_Ripe' 'Pomengranate_Ripe' 'Mango_Raw'\n",
      " 'Guava_Ripe' 'Apple_Raw' 'Banana_Ripe' 'Mango_Ripe' 'Strawberry_Raw'\n",
      " 'Mango_Ripe' 'Leeche_Ripe' 'Coconut_Raw' 'Apple_Ripe' 'Coconut_Ripe'\n",
      " 'Leeche_Raw' 'Banana_Raw' 'Pomengranate_Ripe' 'Apple_Raw'\n",
      " 'Pomengranate_Ripe' 'Orange_Raw' 'Banana_Raw' 'Strawberry_Raw'\n",
      " 'Coconut_Ripe' 'Orange_Raw' 'Papaya_Raw' 'Papaya_Raw' 'Coconut_Raw'\n",
      " 'Papaya_Ripe' 'Leeche_Raw' 'Guava_Raw' 'Leeche_Raw' 'Strawberry_Raw'\n",
      " 'Apple_Raw' 'Papaya_Raw' 'Orange_Ripe' 'Orange_Ripe' 'Leeche_Ripe'\n",
      " 'Mango_Raw' 'Pomengranate_Ripe' 'Banana_Ripe' 'Coconut_Raw' 'Apple_Ripe'\n",
      " 'Strawberry_Raw' 'Banana_Raw' 'Mango_Ripe' 'Coconut_Ripe' 'Coconut_Raw'\n",
      " 'Leeche_Raw' 'Mango_Ripe' 'Mango_Raw' 'Strawberry_Ripe' 'Guava_Raw'\n",
      " 'Leeche_Raw' 'Leeche_Raw' 'Guava_Raw' 'Apple_Raw' 'Guava_Ripe'\n",
      " 'Apple_Ripe' 'Apple_Raw' 'Mango_Ripe' 'Banana_Ripe' 'Strawberry_Raw'\n",
      " 'Mango_Raw' 'Banana_Ripe' 'Mango_Raw' 'Strawberry_Ripe' 'Orange_Raw'\n",
      " 'Orange_Raw' 'Orange_Ripe' 'Guava_Raw' 'Papaya_Ripe' 'Guava_Ripe'\n",
      " 'Mango_Raw' 'Pomengranate_Ripe' 'Leeche_Raw' 'Leeche_Raw' 'Guava_Raw'\n",
      " 'Orange_Raw' 'Coconut_Raw' 'Banana_Raw' 'Orange_Raw' 'Banana_Raw'\n",
      " 'Mango_Raw' 'Orange_Ripe' 'Orange_Ripe' 'Coconut_Raw' 'Banana_Ripe'\n",
      " 'Strawberry_Raw' 'Papaya_Ripe' 'Papaya_Ripe' 'Apple_Ripe' 'Apple_Raw'\n",
      " 'Banana_Ripe' 'Orange_Raw' 'Coconut_Ripe' 'Orange_Raw' 'Coconut_Raw'\n",
      " 'Strawberry_Raw' 'Pomengranate_Raw' 'Orange_Raw' 'Strawberry_Ripe'\n",
      " 'Pomengranate_Raw' 'Strawberry_Ripe' 'Coconut_Ripe' 'Apple_Raw'\n",
      " 'Apple_Raw' 'Apple_Ripe' 'Apple_Ripe' 'Apple_Ripe' 'Guava_Raw'\n",
      " 'Pomengranate_Ripe' 'Apple_Raw' 'Pomengranate_Raw' 'Papaya_Raw'\n",
      " 'Leeche_Raw' 'Guava_Ripe' 'Strawberry_Ripe' 'Leeche_Ripe' 'Leeche_Raw'\n",
      " 'Guava_Raw' 'Orange_Ripe' 'Banana_Ripe' 'Banana_Ripe' 'Apple_Ripe'\n",
      " 'Leeche_Ripe' 'Mango_Raw' 'Pomengranate_Raw' 'Pomengranate_Ripe'\n",
      " 'Guava_Raw' 'Mango_Ripe' 'Orange_Ripe' 'Coconut_Ripe' 'Strawberry_Raw'\n",
      " 'Strawberry_Raw' 'Leeche_Raw' 'Papaya_Raw' 'Papaya_Ripe' 'Strawberry_Raw'\n",
      " 'Coconut_Raw' 'Strawberry_Ripe' 'Pomengranate_Raw' 'Leeche_Ripe'\n",
      " 'Mango_Ripe' 'Pomengranate_Raw' 'Leeche_Raw' 'Orange_Raw' 'Coconut_Ripe'\n",
      " 'Guava_Raw' 'Banana_Ripe' 'Leeche_Raw' 'Orange_Raw' 'Banana_Ripe'\n",
      " 'Orange_Ripe' 'Pomengranate_Raw' 'Pomengranate_Raw' 'Orange_Raw'\n",
      " 'Orange_Raw' 'Mango_Raw' 'Orange_Ripe' 'Banana_Raw' 'Strawberry_Ripe'\n",
      " 'Strawberry_Raw' 'Apple_Ripe' 'Orange_Raw' 'Orange_Raw' 'Mango_Ripe'\n",
      " 'Orange_Ripe' 'Guava_Raw' 'Coconut_Ripe' 'Guava_Ripe' 'Guava_Ripe'\n",
      " 'Pomengranate_Ripe' 'Banana_Raw' 'Banana_Raw' 'Orange_Raw' 'Leeche_Raw'\n",
      " 'Banana_Ripe' 'Strawberry_Raw' 'Guava_Raw' 'Coconut_Ripe' 'Apple_Ripe'\n",
      " 'Apple_Ripe' 'Strawberry_Raw' 'Apple_Ripe' 'Orange_Raw'\n",
      " 'Pomengranate_Raw' 'Apple_Ripe' 'Banana_Raw' 'Strawberry_Ripe'\n",
      " 'Coconut_Raw' 'Coconut_Raw' 'Guava_Ripe' 'Coconut_Raw' 'Banana_Raw'\n",
      " 'Guava_Raw' 'Papaya_Raw' 'Guava_Ripe' 'Orange_Raw' 'Mango_Ripe'\n",
      " 'Pomengranate_Raw' 'Banana_Ripe' 'Papaya_Ripe' 'Banana_Raw' 'Coconut_Raw'\n",
      " 'Orange_Raw' 'Coconut_Ripe' 'Pomengranate_Ripe' 'Orange_Ripe'\n",
      " 'Strawberry_Raw' 'Orange_Ripe' 'Orange_Ripe' 'Strawberry_Ripe'\n",
      " 'Mango_Raw' 'Strawberry_Ripe' 'Mango_Raw' 'Orange_Raw' 'Banana_Raw'\n",
      " 'Mango_Ripe' 'Apple_Raw' 'Coconut_Ripe' 'Strawberry_Ripe' 'Apple_Ripe'\n",
      " 'Orange_Raw' 'Orange_Ripe' 'Papaya_Ripe' 'Coconut_Raw' 'Coconut_Ripe'\n",
      " 'Orange_Ripe' 'Coconut_Ripe' 'Orange_Raw' 'Orange_Ripe' 'Orange_Ripe'\n",
      " 'Orange_Ripe' 'Coconut_Ripe' 'Coconut_Raw' 'Banana_Raw' 'Orange_Raw'\n",
      " 'Mango_Raw' 'Orange_Ripe' 'Guava_Ripe' 'Apple_Ripe' 'Papaya_Ripe'\n",
      " 'Pomengranate_Raw' 'Strawberry_Ripe' 'Papaya_Ripe' 'Guava_Ripe'\n",
      " 'Leeche_Raw' 'Banana_Ripe' 'Strawberry_Raw' 'Mango_Ripe' 'Guava_Ripe'\n",
      " 'Coconut_Ripe' 'Guava_Raw' 'Mango_Raw' 'Leeche_Ripe' 'Papaya_Raw'\n",
      " 'Mango_Raw' 'Mango_Raw' 'Apple_Raw' 'Banana_Ripe' 'Guava_Ripe'\n",
      " 'Leeche_Raw' 'Guava_Raw' 'Mango_Raw' 'Pomengranate_Raw' 'Coconut_Ripe'\n",
      " 'Banana_Ripe' 'Leeche_Raw' 'Papaya_Raw' 'Banana_Ripe' 'Pomengranate_Ripe'\n",
      " 'Banana_Raw' 'Orange_Raw' 'Papaya_Ripe' 'Leeche_Raw' 'Strawberry_Raw'\n",
      " 'Strawberry_Raw' 'Papaya_Raw' 'Coconut_Ripe' 'Leeche_Raw' 'Orange_Ripe'\n",
      " 'Pomengranate_Ripe']\n"
     ]
    }
   ],
   "source": [
    "\n",
    "print(out_array)"
   ]
  }
 ],
 "metadata": {
  "interpreter": {
   "hash": "aee8b7b246df8f9039afb4144a1f6fd8d2ca17a180786b69acc140d282b71a49"
  },
  "kernelspec": {
   "display_name": "Python 3.10.4 64-bit",
   "language": "python",
   "name": "python3"
  },
  "language_info": {
   "codemirror_mode": {
    "name": "ipython",
    "version": 3
   },
   "file_extension": ".py",
   "mimetype": "text/x-python",
   "name": "python",
   "nbconvert_exporter": "python",
   "pygments_lexer": "ipython3",
   "version": "3.10.4"
  },
  "orig_nbformat": 4
 },
 "nbformat": 4,
 "nbformat_minor": 2
}
