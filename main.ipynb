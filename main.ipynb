{
 "cells": [
  {
   "cell_type": "code",
   "execution_count": 523,
   "metadata": {},
   "outputs": [],
   "source": [
    "import numpy as np\n",
    "import pandas as pd"
   ]
  },
  {
   "cell_type": "code",
   "execution_count": 524,
   "metadata": {},
   "outputs": [],
   "source": [
    "from sklearn.cluster import KMeans\n",
    "from sklearn.decomposition import PCA\n",
    "from sklearn.preprocessing import StandardScaler\n",
    "from sklearn.model_selection import train_test_split\n",
    "from sklearn.neighbors import LocalOutlierFactor\n",
    "from sklearn.linear_model import LogisticRegression\n",
    "from sklearn.metrics import accuracy_score\n",
    "from sklearn.discriminant_analysis import LinearDiscriminantAnalysis\n",
    "from sklearn.cluster import DBSCAN"
   ]
  },
  {
   "cell_type": "code",
   "execution_count": 525,
   "metadata": {},
   "outputs": [],
   "source": [
    "def perform_pca(training,testing,comp):\n",
    "    pca = PCA(n_components=comp)\n",
    "\n",
    "    pca.fit(training)\n",
    "    inp_pca = pca.transform(training)\n",
    "    test_pca = pca.transform(testing)\n",
    "\n",
    "    return inp_pca, test_pca"
   ]
  },
  {
   "cell_type": "code",
   "execution_count": 526,
   "metadata": {},
   "outputs": [],
   "source": [
    "def perform_lda(training, labels, testing):\n",
    "    lda = LinearDiscriminantAnalysis()\n",
    "    lda.fit(data, labels)\n",
    "    transformed_data = lda.transform(training)\n",
    "    transformed_test = lda.transform(testing)\n",
    "    return transformed_data, transformed_test"
   ]
  },
  {
   "cell_type": "code",
   "execution_count": 527,
   "metadata": {},
   "outputs": [],
   "source": [
    "def kmeans_clustering(inp, num_clusters):\n",
    "    # optimise_clustering(inp)\n",
    "    kmeans = KMeans(n_clusters = num_clusters, n_init=10, random_state=0)\n",
    "    kmeans.fit(inp)\n",
    "    cluster_ids = kmeans.labels_\n",
    "    final = np.column_stack((inp, cluster_ids))\n",
    "    return final"
   ]
  },
  {
   "cell_type": "code",
   "execution_count": 528,
   "metadata": {},
   "outputs": [],
   "source": [
    "def dbscan_clustering(inp, epsilon, min_s):\n",
    "    dbscan = DBSCAN(eps = epsilon, min_samples = min_s)\n",
    "    cluster_ids = dbscan.fit_predict(inp)\n",
    "    final = np.column_stack((inp, cluster_ids))\n",
    "    print(cluster_ids)\n",
    "    return final"
   ]
  },
  {
   "cell_type": "code",
   "execution_count": 529,
   "metadata": {},
   "outputs": [],
   "source": [
    "import matplotlib.pyplot as plt\n",
    "\n",
    "def optimise_clustering(inp):\n",
    "    wcss = []\n",
    "    for i in range(1,50):\n",
    "        kmeans = KMeans(n_clusters=i,n_init=10,random_state=42)\n",
    "        kmeans.fit(inp)\n",
    "        wcss.append(kmeans.inertia_)\n",
    "    \n",
    "    plt.plot(range(1, 50), wcss)\n",
    "    plt.title('Elbow Method')\n",
    "    plt.xlabel('Number of clusters')\n",
    "    plt.ylabel('WCSS')\n",
    "    plt.show()"
   ]
  },
  {
   "cell_type": "code",
   "execution_count": 530,
   "metadata": {},
   "outputs": [],
   "source": [
    "def outlier_detection(inp,labels,num):\n",
    "    full = np.column_stack((inp,labels))\n",
    "    lof = LocalOutlierFactor(n_neighbors=num)\n",
    "\n",
    "    # best = validation(full,lof)\n",
    "    # lof.set_params(n_neighbors = best)\n",
    "\n",
    "    preds = lof.fit_predict(inp)\n",
    "\n",
    "    out_array = np.empty((0,full.shape[1]))\n",
    "    for i in range(len(preds)):\n",
    "        if(preds[i]==1):\n",
    "            out_array = np.vstack((out_array, full[i]))\n",
    "    return out_array"
   ]
  },
  {
   "cell_type": "code",
   "execution_count": 531,
   "metadata": {},
   "outputs": [],
   "source": [
    "def logistic_regression(X_train, Y_train, X_test, iterations):\n",
    "    # scaler = StandardScaler()\n",
    "    # X_train = scaler.fit_transform(X_train)\n",
    "    # X_test = scaler.transform(X_test)\n",
    "    \n",
    "    logreg = LogisticRegression(multi_class='multinomial', solver='lbfgs', max_iter=iterations)\n",
    "    logreg.fit(X_train, Y_train)\n",
    "    y_pred = logreg.predict(X_test)\n",
    "    return y_pred"
   ]
  },
  {
   "cell_type": "code",
   "execution_count": 532,
   "metadata": {},
   "outputs": [],
   "source": [
    "from sklearn.model_selection import cross_val_score\n",
    "from sklearn.model_selection import KFold\n",
    "\n",
    "def validation(inp,lof):\n",
    "    neighbors_range = range(5,50)\n",
    "    kf = KFold(n_splits=5)\n",
    "\n",
    "    scores = np.empty(len(neighbors_range))\n",
    "\n",
    "    for i,n_neighbors in enumerate(neighbors_range):\n",
    "        lof.set_params(n_neighbors=n_neighbors)\n",
    "        cv_scores = cross_val_score(lof,inp[:,:-1],inp[:,-1],cv=kf,scoring='f1')\n",
    "        scores[i] = np.mean(cv_scores)\n",
    "    \n",
    "    best = neighbors_range[np.argmax(scores)]\n",
    "    return best"
   ]
  },
  {
   "cell_type": "code",
   "execution_count": 533,
   "metadata": {},
   "outputs": [],
   "source": [
    "readtrain = pd.read_csv(\"train.csv\")\n",
    "\n",
    "# mapping = {index: value for index,value in enumerate(readtrain['category'].unique())}\n",
    "\n",
    "# le = LabelEncoder()\n",
    "# readtrain['category'] = le.fit_transform(readtrain['category'])\n",
    "\n",
    "labels = readtrain['category'].to_numpy()\n",
    "readtrain = readtrain.drop(['ID'],axis=1)\n",
    "data = readtrain.drop(['category'],axis=1).to_numpy()\n",
    "\n",
    "testdata = pd.read_csv(\"test.csv\")\n",
    "ids = testdata['ID']\n",
    "testdata = testdata.drop(['ID'],axis=1).to_numpy()"
   ]
  },
  {
   "cell_type": "code",
   "execution_count": 534,
   "metadata": {},
   "outputs": [],
   "source": [
    "full = outlier_detection(data,labels,20)\n",
    "# for i in range(15,33):\n",
    "#     full = outlier_detection(data,labels,i)\n",
    "labels = full[:,-1]\n",
    "data = full[:,:-1]"
   ]
  },
  {
   "cell_type": "code",
   "execution_count": 535,
   "metadata": {},
   "outputs": [],
   "source": [
    "data, testdata = perform_pca(data,testdata,0.99)\n",
    "\n",
    "data, testdata = perform_lda(data, labels, testdata)\n",
    "\n",
    "data = kmeans_clustering(data, 8)\n",
    "testdata = kmeans_clustering(testdata, 8)\n",
    "\n",
    "# data = dbscan_clustering(data, 0.001, 120)\n",
    "# testdata = dbscan_clustering(testdata, 0.001, 120)"
   ]
  },
  {
   "cell_type": "code",
   "execution_count": 536,
   "metadata": {},
   "outputs": [],
   "source": [
    "# k_range = range(15,40)\n",
    "# accuracy_scores = []\n",
    "# for i in k_range:\n",
    "#     full = outlier_detection(data,labels,i)\n",
    "#     labels = full[:,-1]\n",
    "#     data = full[:,:-1]\n",
    "#     X_train, X_test, Y_train, Y_test = train_test_split(data,labels,test_size=0.25,random_state=100)\n",
    "#     Y_pred = classification(X_train,Y_train,X_test,1000)\n",
    "#     accuracy_scores.append(accuracy_score(Y_test,Y_pred))\n",
    "\n",
    "# print(k_range[np.argmax(accuracy_scores)])"
   ]
  },
  {
   "cell_type": "code",
   "execution_count": 537,
   "metadata": {},
   "outputs": [],
   "source": [
    "# print(k_range,\"\\n\",accuracy_scores)"
   ]
  },
  {
   "cell_type": "code",
   "execution_count": 538,
   "metadata": {},
   "outputs": [],
   "source": [
    "# X_train, X_test, Y_train, Y_test = train_test_split(data,labels,test_size=0.25,random_state=42)\n",
    "# Y_pred = logistic_regression(X_train,Y_train,X_test,1000)"
   ]
  },
  {
   "cell_type": "code",
   "execution_count": 539,
   "metadata": {},
   "outputs": [],
   "source": [
    "output = logistic_regression(data,labels,testdata,1000)"
   ]
  },
  {
   "cell_type": "code",
   "execution_count": 540,
   "metadata": {},
   "outputs": [],
   "source": [
    "# output = le.inverse_transform(Y_pred)"
   ]
  },
  {
   "cell_type": "code",
   "execution_count": 541,
   "metadata": {},
   "outputs": [],
   "source": [
    "output = pd.DataFrame({'ID':ids,'category':output})\n",
    "output.to_csv('output1.csv',index=False)"
   ]
  },
  {
   "cell_type": "code",
   "execution_count": 542,
   "metadata": {},
   "outputs": [],
   "source": [
    "# print(accuracy_score(Y_test,Y_pred))"
   ]
  }
 ],
 "metadata": {
  "interpreter": {
   "hash": "aee8b7b246df8f9039afb4144a1f6fd8d2ca17a180786b69acc140d282b71a49"
  },
  "kernelspec": {
   "display_name": "Python 3.10.4 64-bit",
   "language": "python",
   "name": "python3"
  },
  "language_info": {
   "codemirror_mode": {
    "name": "ipython",
    "version": 3
   },
   "file_extension": ".py",
   "mimetype": "text/x-python",
   "name": "python",
   "nbconvert_exporter": "python",
   "pygments_lexer": "ipython3",
   "version": "3.10.4"
  },
  "orig_nbformat": 4
 },
 "nbformat": 4,
 "nbformat_minor": 2
}
