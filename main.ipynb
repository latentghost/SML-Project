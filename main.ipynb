{
 "cells": [
  {
   "cell_type": "code",
   "execution_count": 722,
   "metadata": {},
   "outputs": [],
   "source": [
    "import numpy as np\n",
    "import pandas as pd"
   ]
  },
  {
   "cell_type": "code",
   "execution_count": 723,
   "metadata": {},
   "outputs": [],
   "source": [
    "from sklearn.cluster import KMeans\n",
    "from sklearn.decomposition import PCA\n",
    "from sklearn.preprocessing import StandardScaler\n",
    "from sklearn.model_selection import train_test_split\n",
    "from sklearn.neighbors import LocalOutlierFactor\n",
    "from sklearn.linear_model import LogisticRegression\n",
    "from sklearn.metrics import accuracy_score"
   ]
  },
  {
   "cell_type": "code",
   "execution_count": 724,
   "metadata": {},
   "outputs": [],
   "source": [
    "def dimension_reduction(inp,comp):\n",
    "    pca = PCA(n_components=comp)\n",
    "\n",
    "    pca.fit(inp)\n",
    "    inp_pca = pca.transform(inp)\n",
    "\n",
    "    return inp_pca"
   ]
  },
  {
   "cell_type": "code",
   "execution_count": 725,
   "metadata": {},
   "outputs": [],
   "source": [
    "def clustering(inp, num_clusters):\n",
    "    kmeans = KMeans(n_clusters = num_clusters, n_init=10, random_state = 0).fit(inp)\n",
    "    cluster_ids = kmeans.labels_\n",
    "    final = np.column_stack((inp, cluster_ids))\n",
    "    return final"
   ]
  },
  {
   "cell_type": "code",
   "execution_count": 726,
   "metadata": {},
   "outputs": [],
   "source": [
    "def outlier_detection(inp,labels):\n",
    "    full = np.column_stack((inp,labels))\n",
    "    lof = LocalOutlierFactor(n_neighbors=20,contamination=0.1)\n",
    "    preds = lof.fit_predict(inp)\n",
    "\n",
    "    out_array = np.empty((0,full.shape[1]))\n",
    "    for i in range(len(preds)):\n",
    "        if(preds[i]==1):\n",
    "            out_array = np.vstack((out_array, full[i]))\n",
    "    return out_array"
   ]
  },
  {
   "cell_type": "code",
   "execution_count": 727,
   "metadata": {},
   "outputs": [],
   "source": [
    "def classification(X_train, Y_train, X_test, iterations):\n",
    "    # scaler = StandardScaler()\n",
    "    # X_train = scaler.fit_transform(X_train)\n",
    "    # X_test = scaler.transform(X_test)\n",
    "    \n",
    "    logreg = LogisticRegression(multi_class='multinomial', solver='lbfgs', max_iter=iterations)\n",
    "    logreg.fit(X_train, Y_train)\n",
    "    y_pred = logreg.predict(X_test)\n",
    "    return y_pred"
   ]
  },
  {
   "cell_type": "code",
   "execution_count": 728,
   "metadata": {},
   "outputs": [],
   "source": [
    "readtrain = pd.read_csv(\"train.csv\")\n",
    "\n",
    "mapping = {index: value for index,value in enumerate(readtrain['category'].unique())}\n",
    "\n",
    "# le = LabelEncoder()\n",
    "# readtrain['category'] = le.fit_transform(readtrain['category'])\n",
    "\n",
    "labels = readtrain['category'].to_numpy()\n",
    "readtrain = readtrain.drop(['ID'],axis=1)\n",
    "data = readtrain.drop(['category'],axis=1).to_numpy()\n",
    "\n",
    "testdata = pd.read_csv(\"test.csv\")\n",
    "ids = testdata['ID']\n",
    "testdata = testdata.drop(['ID'],axis=1).to_numpy()"
   ]
  },
  {
   "cell_type": "code",
   "execution_count": 729,
   "metadata": {},
   "outputs": [],
   "source": [
    "# data = dimension_reduction(data,64)\n",
    "# testdata = dimension_reduction(testdata,64)\n",
    "data = clustering(data, 19)\n",
    "testdata = clustering(testdata, 19)"
   ]
  },
  {
   "cell_type": "code",
   "execution_count": 730,
   "metadata": {},
   "outputs": [],
   "source": [
    "full = outlier_detection(data,labels)\n",
    "labels = full[:,-1]\n",
    "data = full[:,:-1]"
   ]
  },
  {
   "cell_type": "code",
   "execution_count": 731,
   "metadata": {},
   "outputs": [
    {
     "name": "stderr",
     "output_type": "stream",
     "text": [
      "/Library/Frameworks/Python.framework/Versions/3.10/lib/python3.10/site-packages/sklearn/linear_model/_logistic.py:458: ConvergenceWarning: lbfgs failed to converge (status=1):\n",
      "STOP: TOTAL NO. of ITERATIONS REACHED LIMIT.\n",
      "\n",
      "Increase the number of iterations (max_iter) or scale the data as shown in:\n",
      "    https://scikit-learn.org/stable/modules/preprocessing.html\n",
      "Please also refer to the documentation for alternative solver options:\n",
      "    https://scikit-learn.org/stable/modules/linear_model.html#logistic-regression\n",
      "  n_iter_i = _check_optimize_result(\n"
     ]
    }
   ],
   "source": [
    "# X_train, X_test, Y_train, Y_test = train_test_split(data,labels,test_size=0.25,random_state=100)\n",
    "# Y_pred = classification(X_train,Y_train,X_test,1000)"
   ]
  },
  {
   "cell_type": "code",
   "execution_count": 736,
   "metadata": {},
   "outputs": [
    {
     "name": "stderr",
     "output_type": "stream",
     "text": [
      "/Library/Frameworks/Python.framework/Versions/3.10/lib/python3.10/site-packages/sklearn/linear_model/_logistic.py:458: ConvergenceWarning: lbfgs failed to converge (status=1):\n",
      "STOP: TOTAL NO. of ITERATIONS REACHED LIMIT.\n",
      "\n",
      "Increase the number of iterations (max_iter) or scale the data as shown in:\n",
      "    https://scikit-learn.org/stable/modules/preprocessing.html\n",
      "Please also refer to the documentation for alternative solver options:\n",
      "    https://scikit-learn.org/stable/modules/linear_model.html#logistic-regression\n",
      "  n_iter_i = _check_optimize_result(\n"
     ]
    }
   ],
   "source": [
    "output = classification(data,labels,testdata,1000)"
   ]
  },
  {
   "cell_type": "code",
   "execution_count": 733,
   "metadata": {},
   "outputs": [],
   "source": [
    "# output = le.inverse_transform(Y_pred)"
   ]
  },
  {
   "cell_type": "code",
   "execution_count": 737,
   "metadata": {},
   "outputs": [],
   "source": [
    "output = pd.DataFrame({'ID':ids,'category':output})\n",
    "output.to_csv('output.csv',index=False)"
   ]
  },
  {
   "cell_type": "code",
   "execution_count": 735,
   "metadata": {},
   "outputs": [
    {
     "name": "stdout",
     "output_type": "stream",
     "text": [
      "0.8138686131386861\n"
     ]
    }
   ],
   "source": [
    "# print(accuracy_score(Y_test,Y_pred))"
   ]
  }
 ],
 "metadata": {
  "interpreter": {
   "hash": "aee8b7b246df8f9039afb4144a1f6fd8d2ca17a180786b69acc140d282b71a49"
  },
  "kernelspec": {
   "display_name": "Python 3.10.4 64-bit",
   "language": "python",
   "name": "python3"
  },
  "language_info": {
   "codemirror_mode": {
    "name": "ipython",
    "version": 3
   },
   "file_extension": ".py",
   "mimetype": "text/x-python",
   "name": "python",
   "nbconvert_exporter": "python",
   "pygments_lexer": "ipython3",
   "version": "3.10.4"
  },
  "orig_nbformat": 4
 },
 "nbformat": 4,
 "nbformat_minor": 2
}
