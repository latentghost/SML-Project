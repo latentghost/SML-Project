{
 "cells": [
  {
   "cell_type": "code",
   "execution_count": 25,
   "metadata": {},
   "outputs": [],
   "source": [
    "import numpy as np\n",
    "import pandas as pd"
   ]
  },
  {
   "cell_type": "code",
   "execution_count": 26,
   "metadata": {},
   "outputs": [],
   "source": [
    "from sklearn.cluster import KMeans\n",
    "from sklearn.decomposition import PCA\n",
    "from sklearn.preprocessing import StandardScaler\n",
    "from sklearn.preprocessing import LabelEncoder\n",
    "from sklearn.model_selection import train_test_split\n",
    "from sklearn.neighbors import LocalOutlierFactor\n",
    "from sklearn.linear_model import LogisticRegression\n",
    "from sklearn.metrics import accuracy_score"
   ]
  },
  {
   "cell_type": "code",
   "execution_count": 27,
   "metadata": {},
   "outputs": [],
   "source": [
    "def dimension_reduction(inp,comp):\n",
    "    pca = PCA(n_components=comp)\n",
    "\n",
    "    pca.fit(inp)\n",
    "    inp_pca = pca.transform(inp)\n",
    "\n",
    "    return inp_pca"
   ]
  },
  {
   "cell_type": "code",
   "execution_count": 28,
   "metadata": {},
   "outputs": [],
   "source": [
    "def outlier_detection(inp):\n",
    "    lof = LocalOutlierFactor(n_neighbors=100,contamination=0.1)\n",
    "    preds = lof.fit_predict(inp)\n",
    "\n",
    "    out_array = np.empty((0,inp.shape[1]))\n",
    "    for i in range(len(preds)):\n",
    "        if(preds[i]==1):\n",
    "            out_array = np.vstack((out_array, inp[i]))\n",
    "    \n",
    "    return out_array"
   ]
  },
  {
   "cell_type": "code",
   "execution_count": 32,
   "metadata": {},
   "outputs": [
    {
     "data": {
      "text/plain": [
       "array([13,  3, 10, ...,  3,  7,  7])"
      ]
     },
     "execution_count": 32,
     "metadata": {},
     "output_type": "execute_result"
    }
   ],
   "source": [
    "readdata = pd.read_csv(\"train.csv\")\n",
    "\n",
    "mapping = {index: value for index,value in enumerate(readdata['category'].unique())}\n",
    "\n",
    "le = LabelEncoder()\n",
    "readdata['category'] = le.fit_transform(readdata['category'])\n",
    "\n",
    "labels = readdata['category'].to_numpy()\n",
    "data = readdata.drop(['category'],axis=1).to_numpy()"
   ]
  },
  {
   "cell_type": "code",
   "execution_count": 30,
   "metadata": {},
   "outputs": [
    {
     "name": "stdout",
     "output_type": "stream",
     "text": [
      "['Papaya_Raw' 'Leeche_Raw' 'Strawberry_Raw' ... 'Leeche_Raw' 'Apple_Ripe'\n",
      " 'Apple_Ripe']\n"
     ]
    }
   ],
   "source": [
    "out_array = []\n",
    "for i,y in enumerate(labels):\n",
    "    out_array.append(mapping[y])\n",
    "\n",
    "out_array = np.array(out_array)\n",
    "print(out_array)"
   ]
  }
 ],
 "metadata": {
  "interpreter": {
   "hash": "aee8b7b246df8f9039afb4144a1f6fd8d2ca17a180786b69acc140d282b71a49"
  },
  "kernelspec": {
   "display_name": "Python 3.10.4 64-bit",
   "language": "python",
   "name": "python3"
  },
  "language_info": {
   "codemirror_mode": {
    "name": "ipython",
    "version": 3
   },
   "file_extension": ".py",
   "mimetype": "text/x-python",
   "name": "python",
   "nbconvert_exporter": "python",
   "pygments_lexer": "ipython3",
   "version": "3.10.4"
  },
  "orig_nbformat": 4
 },
 "nbformat": 4,
 "nbformat_minor": 2
}
