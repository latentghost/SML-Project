{
 "cells": [
  {
   "cell_type": "code",
   "execution_count": 11,
   "metadata": {},
   "outputs": [
    {
     "name": "stdout",
     "output_type": "stream",
     "text": [
      "[6 'Coconut_Ripe'] [6 'Orange_Ripe']\n",
      "[9 'Coconut_Ripe'] [9 'Coconut_Raw']\n",
      "[31 'Apple_Ripe'] [31 'Pomengranate_Ripe']\n",
      "[53 'Mango_Ripe'] [53 'Guava_Ripe']\n",
      "[72 'Mango_Ripe'] [72 'Coconut_Raw']\n",
      "[84 'Guava_Raw'] [84 'Papaya_Raw']\n",
      "[93 'Coconut_Ripe'] [93 'Apple_Ripe']\n",
      "[105 'Apple_Ripe'] [105 'Apple_Raw']\n",
      "[117 'Coconut_Ripe'] [117 'Apple_Raw']\n",
      "[129 'Strawberry_Ripe'] [129 'Apple_Ripe']\n",
      "[149 'Pomengranate_Raw'] [149 'Leeche_Raw']\n",
      "[158 'Orange_Ripe'] [158 'Mango_Ripe']\n",
      "[161 'Strawberry_Raw'] [161 'Banana_Ripe']\n",
      "[191 'Mango_Ripe'] [191 'Apple_Ripe']\n",
      "[211 'Strawberry_Ripe'] [211 'Strawberry_Raw']\n",
      "[244 'Mango_Ripe'] [244 'Coconut_Raw']\n",
      "[307 'Strawberry_Ripe'] [307 'Strawberry_Raw']\n",
      "[317 'Strawberry_Ripe'] [317 'Strawberry_Raw']\n",
      "[343 'Apple_Raw'] [343 'Coconut_Raw']\n",
      "[353 'Papaya_Ripe'] [353 'Papaya_Raw']\n",
      "[392 'Apple_Ripe'] [392 'Coconut_Ripe']\n"
     ]
    }
   ],
   "source": [
    "import pandas as pd\n",
    "c1 = pd.read_csv(\"output.csv\").to_numpy()\n",
    "c2 = pd.read_csv(\"output1.csv\").to_numpy()\n",
    "\n",
    "for i in range(c1.shape[0]):\n",
    "    if(c1[i][1]!=c2[i][1]):\n",
    "        print(c1[i],c2[i])"
   ]
  }
 ],
 "metadata": {
  "interpreter": {
   "hash": "aee8b7b246df8f9039afb4144a1f6fd8d2ca17a180786b69acc140d282b71a49"
  },
  "kernelspec": {
   "display_name": "Python 3.10.4 64-bit",
   "language": "python",
   "name": "python3"
  },
  "language_info": {
   "codemirror_mode": {
    "name": "ipython",
    "version": 3
   },
   "file_extension": ".py",
   "mimetype": "text/x-python",
   "name": "python",
   "nbconvert_exporter": "python",
   "pygments_lexer": "ipython3",
   "version": "3.10.4"
  },
  "orig_nbformat": 4
 },
 "nbformat": 4,
 "nbformat_minor": 2
}
