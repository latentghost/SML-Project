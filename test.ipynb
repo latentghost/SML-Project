{
 "cells": [
  {
   "cell_type": "code",
   "execution_count": 304,
   "metadata": {},
   "outputs": [],
   "source": [
    "import pandas as pd\n",
    "c1 = pd.read_csv(\"output.csv\").to_numpy()"
   ]
  },
  {
   "cell_type": "code",
   "execution_count": 305,
   "metadata": {},
   "outputs": [
    {
     "name": "stdout",
     "output_type": "stream",
     "text": [
      "[0 'Mango_Raw'] [0 'Leeche_Raw']\n",
      "1\n"
     ]
    }
   ],
   "source": [
    "c2 = pd.read_csv(\"output-s.csv\").to_numpy()\n",
    "cnt = 0\n",
    "for i in range(c1.shape[0]):\n",
    "    if(c1[i][1]!=c2[i][1]):\n",
    "        print(c1[i],c2[i])\n",
    "        cnt += 1\n",
    "print(cnt)"
   ]
  },
  {
   "cell_type": "code",
   "execution_count": 306,
   "metadata": {},
   "outputs": [
    {
     "name": "stdout",
     "output_type": "stream",
     "text": [
      "[0 'Mango_Raw'] [0 'Leeche_Raw']\n",
      "[6 'Orange_Ripe'] [6 'Coconut_Ripe']\n",
      "[19 'Orange_Raw'] [19 'Mango_Raw']\n",
      "[23 'Pomengranate_Raw'] [23 'Coconut_Ripe']\n",
      "[73 'Papaya_Ripe'] [73 'Papaya_Raw']\n",
      "[81 'Orange_Ripe'] [81 'Mango_Raw']\n",
      "[103 'Coconut_Ripe'] [103 'Papaya_Raw']\n",
      "[105 'Pomengranate_Ripe'] [105 'Apple_Ripe']\n",
      "[107 'Papaya_Ripe'] [107 'Mango_Ripe']\n",
      "[124 'Guava_Raw'] [124 'Orange_Raw']\n",
      "[135 'Banana_Raw'] [135 'Orange_Ripe']\n",
      "[143 'Orange_Raw'] [143 'Guava_Raw']\n",
      "[145 'Coconut_Raw'] [145 'Papaya_Raw']\n",
      "[149 'Leeche_Raw'] [149 'Pomengranate_Raw']\n",
      "[161 'Papaya_Ripe'] [161 'Strawberry_Raw']\n",
      "[183 'Papaya_Raw'] [183 'Mango_Raw']\n",
      "[188 'Mango_Ripe'] [188 'Coconut_Raw']\n",
      "[211 'Papaya_Ripe'] [211 'Strawberry_Ripe']\n",
      "[221 'Coconut_Ripe'] [221 'Apple_Raw']\n",
      "[235 'Guava_Raw'] [235 'Papaya_Raw']\n",
      "[240 'Guava_Raw'] [240 'Orange_Raw']\n",
      "[250 'Orange_Raw'] [250 'Papaya_Raw']\n",
      "[253 'Apple_Raw'] [253 'Pomengranate_Raw']\n",
      "[273 'Papaya_Ripe'] [273 'Strawberry_Raw']\n",
      "[276 'Mango_Ripe'] [276 'Orange_Ripe']\n",
      "[294 'Banana_Raw'] [294 'Mango_Raw']\n",
      "[317 'Strawberry_Raw'] [317 'Strawberry_Ripe']\n",
      "[329 'Coconut_Ripe'] [329 'Apple_Raw']\n",
      "[332 'Papaya_Ripe'] [332 'Papaya_Raw']\n",
      "[336 'Coconut_Raw'] [336 'Orange_Raw']\n",
      "[343 'Guava_Ripe'] [343 'Apple_Raw']\n",
      "[348 'Leeche_Ripe'] [348 'Leeche_Raw']\n",
      "[378 'Apple_Raw'] [378 'Guava_Ripe']\n",
      "[390 'Banana_Ripe'] [390 'Banana_Raw']\n",
      "34\n"
     ]
    }
   ],
   "source": [
    "c2 = pd.read_csv(\"output-84.5.csv\").to_numpy()\n",
    "cnt = 0\n",
    "for i in range(c1.shape[0]):\n",
    "    if(c1[i][1]!=c2[i][1]):\n",
    "        print(c1[i],c2[i])\n",
    "        cnt += 1\n",
    "print(cnt)"
   ]
  },
  {
   "cell_type": "code",
   "execution_count": 307,
   "metadata": {},
   "outputs": [
    {
     "name": "stdout",
     "output_type": "stream",
     "text": [
      "[0 'Mango_Raw'] [0 'Leeche_Raw']\n",
      "[6 'Orange_Ripe'] [6 'Coconut_Ripe']\n",
      "[18 'Papaya_Ripe'] [18 'Mango_Ripe']\n",
      "[19 'Orange_Raw'] [19 'Mango_Raw']\n",
      "[23 'Pomengranate_Raw'] [23 'Coconut_Ripe']\n",
      "[34 'Mango_Raw'] [34 'Coconut_Raw']\n",
      "[72 'Mango_Ripe'] [72 'Coconut_Raw']\n",
      "[73 'Papaya_Ripe'] [73 'Papaya_Raw']\n",
      "[81 'Orange_Ripe'] [81 'Mango_Raw']\n",
      "[103 'Coconut_Ripe'] [103 'Papaya_Raw']\n",
      "[105 'Pomengranate_Ripe'] [105 'Apple_Ripe']\n",
      "[107 'Papaya_Ripe'] [107 'Mango_Ripe']\n",
      "[124 'Guava_Raw'] [124 'Orange_Raw']\n",
      "[135 'Banana_Raw'] [135 'Orange_Ripe']\n",
      "[143 'Orange_Raw'] [143 'Guava_Raw']\n",
      "[145 'Coconut_Raw'] [145 'Papaya_Raw']\n",
      "[161 'Papaya_Ripe'] [161 'Strawberry_Raw']\n",
      "[183 'Papaya_Raw'] [183 'Mango_Raw']\n",
      "[188 'Mango_Ripe'] [188 'Coconut_Raw']\n",
      "[211 'Papaya_Ripe'] [211 'Strawberry_Ripe']\n",
      "[221 'Coconut_Ripe'] [221 'Apple_Raw']\n",
      "[235 'Guava_Raw'] [235 'Papaya_Raw']\n",
      "[240 'Guava_Raw'] [240 'Orange_Raw']\n",
      "[250 'Orange_Raw'] [250 'Papaya_Raw']\n",
      "[253 'Apple_Raw'] [253 'Pomengranate_Raw']\n",
      "[273 'Papaya_Ripe'] [273 'Mango_Ripe']\n",
      "[276 'Mango_Ripe'] [276 'Orange_Ripe']\n",
      "[294 'Banana_Raw'] [294 'Mango_Raw']\n",
      "[317 'Strawberry_Raw'] [317 'Strawberry_Ripe']\n",
      "[332 'Papaya_Ripe'] [332 'Papaya_Raw']\n",
      "[336 'Coconut_Raw'] [336 'Orange_Raw']\n",
      "[343 'Guava_Ripe'] [343 'Coconut_Raw']\n",
      "[348 'Leeche_Ripe'] [348 'Leeche_Raw']\n",
      "[378 'Apple_Raw'] [378 'Guava_Ripe']\n",
      "[390 'Banana_Ripe'] [390 'Banana_Raw']\n",
      "35\n"
     ]
    }
   ],
   "source": [
    "c2 = pd.read_csv(\"output-845.csv\").to_numpy()\n",
    "cnt = 0\n",
    "for i in range(c1.shape[0]):\n",
    "    if(c1[i][1]!=c2[i][1]):\n",
    "        print(c1[i],c2[i])\n",
    "        cnt += 1\n",
    "print(cnt)"
   ]
  },
  {
   "cell_type": "code",
   "execution_count": 308,
   "metadata": {},
   "outputs": [
    {
     "name": "stdout",
     "output_type": "stream",
     "text": [
      "[0 'Mango_Raw'] [0 'Leeche_Raw']\n",
      "[6 'Orange_Ripe'] [6 'Coconut_Ripe']\n",
      "[18 'Papaya_Ripe'] [18 'Mango_Ripe']\n",
      "[19 'Orange_Raw'] [19 'Mango_Raw']\n",
      "[23 'Pomengranate_Raw'] [23 'Coconut_Ripe']\n",
      "[53 'Mango_Ripe'] [53 'Guava_Ripe']\n",
      "[81 'Orange_Ripe'] [81 'Mango_Raw']\n",
      "[105 'Pomengranate_Ripe'] [105 'Apple_Ripe']\n",
      "[107 'Papaya_Ripe'] [107 'Mango_Ripe']\n",
      "[124 'Guava_Raw'] [124 'Orange_Raw']\n",
      "[128 'Apple_Raw'] [128 'Apple_Ripe']\n",
      "[135 'Banana_Raw'] [135 'Orange_Ripe']\n",
      "[143 'Orange_Raw'] [143 'Guava_Raw']\n",
      "[145 'Coconut_Raw'] [145 'Papaya_Raw']\n",
      "[149 'Leeche_Raw'] [149 'Pomengranate_Raw']\n",
      "[161 'Papaya_Ripe'] [161 'Strawberry_Raw']\n",
      "[183 'Papaya_Raw'] [183 'Mango_Raw']\n",
      "[188 'Mango_Ripe'] [188 'Coconut_Raw']\n",
      "[211 'Papaya_Ripe'] [211 'Strawberry_Ripe']\n",
      "[216 'Banana_Raw'] [216 'Apple_Raw']\n",
      "[221 'Coconut_Ripe'] [221 'Papaya_Ripe']\n",
      "[235 'Guava_Raw'] [235 'Papaya_Raw']\n",
      "[240 'Guava_Raw'] [240 'Orange_Raw']\n",
      "[250 'Orange_Raw'] [250 'Papaya_Raw']\n",
      "[253 'Apple_Raw'] [253 'Pomengranate_Raw']\n",
      "[273 'Papaya_Ripe'] [273 'Strawberry_Raw']\n",
      "[276 'Mango_Ripe'] [276 'Orange_Ripe']\n",
      "[294 'Banana_Raw'] [294 'Mango_Raw']\n",
      "[314 'Papaya_Raw'] [314 'Papaya_Ripe']\n",
      "[317 'Strawberry_Raw'] [317 'Strawberry_Ripe']\n",
      "[329 'Coconut_Ripe'] [329 'Apple_Raw']\n",
      "[332 'Papaya_Ripe'] [332 'Papaya_Raw']\n",
      "[336 'Coconut_Raw'] [336 'Orange_Raw']\n",
      "[343 'Guava_Ripe'] [343 'Apple_Raw']\n",
      "[348 'Leeche_Ripe'] [348 'Leeche_Raw']\n",
      "[378 'Apple_Raw'] [378 'Guava_Ripe']\n",
      "[390 'Banana_Ripe'] [390 'Banana_Raw']\n",
      "37\n"
     ]
    }
   ],
   "source": [
    "c2 = pd.read_csv(\"output-840.csv\").to_numpy()\n",
    "cnt = 0\n",
    "for i in range(c1.shape[0]):\n",
    "    if(c1[i][1]!=c2[i][1]):\n",
    "        print(c1[i],c2[i])\n",
    "        cnt += 1\n",
    "print(cnt)"
   ]
  },
  {
   "cell_type": "code",
   "execution_count": 309,
   "metadata": {},
   "outputs": [
    {
     "name": "stdout",
     "output_type": "stream",
     "text": [
      "[0 'Mango_Raw'] [0 'Leeche_Raw']\n",
      "[6 'Orange_Ripe'] [6 'Coconut_Ripe']\n",
      "[18 'Papaya_Ripe'] [18 'Mango_Ripe']\n",
      "[19 'Orange_Raw'] [19 'Mango_Raw']\n",
      "[23 'Pomengranate_Raw'] [23 'Coconut_Ripe']\n",
      "[34 'Mango_Raw'] [34 'Coconut_Raw']\n",
      "[72 'Mango_Ripe'] [72 'Coconut_Raw']\n",
      "[73 'Papaya_Ripe'] [73 'Papaya_Raw']\n",
      "[81 'Orange_Ripe'] [81 'Mango_Raw']\n",
      "[103 'Coconut_Ripe'] [103 'Papaya_Raw']\n",
      "[105 'Pomengranate_Ripe'] [105 'Apple_Ripe']\n",
      "[107 'Papaya_Ripe'] [107 'Mango_Ripe']\n",
      "[124 'Guava_Raw'] [124 'Orange_Raw']\n",
      "[135 'Banana_Raw'] [135 'Orange_Ripe']\n",
      "[143 'Orange_Raw'] [143 'Guava_Raw']\n",
      "[145 'Coconut_Raw'] [145 'Papaya_Raw']\n",
      "[149 'Leeche_Raw'] [149 'Pomengranate_Raw']\n",
      "[161 'Papaya_Ripe'] [161 'Strawberry_Raw']\n",
      "[183 'Papaya_Raw'] [183 'Mango_Raw']\n",
      "[188 'Mango_Ripe'] [188 'Coconut_Raw']\n",
      "[211 'Papaya_Ripe'] [211 'Strawberry_Ripe']\n",
      "[221 'Coconut_Ripe'] [221 'Apple_Raw']\n",
      "[235 'Guava_Raw'] [235 'Papaya_Raw']\n",
      "[240 'Guava_Raw'] [240 'Orange_Raw']\n",
      "[250 'Orange_Raw'] [250 'Papaya_Raw']\n",
      "[253 'Apple_Raw'] [253 'Pomengranate_Raw']\n",
      "[271 'Coconut_Ripe'] [271 'Apple_Raw']\n",
      "[273 'Papaya_Ripe'] [273 'Mango_Ripe']\n",
      "[276 'Mango_Ripe'] [276 'Orange_Ripe']\n",
      "[294 'Banana_Raw'] [294 'Mango_Raw']\n",
      "[317 'Strawberry_Raw'] [317 'Strawberry_Ripe']\n",
      "[332 'Papaya_Ripe'] [332 'Papaya_Raw']\n",
      "[336 'Coconut_Raw'] [336 'Orange_Raw']\n",
      "[343 'Guava_Ripe'] [343 'Coconut_Raw']\n",
      "[348 'Leeche_Ripe'] [348 'Leeche_Raw']\n",
      "[378 'Apple_Raw'] [378 'Guava_Ripe']\n",
      "[390 'Banana_Ripe'] [390 'Banana_Raw']\n",
      "37\n"
     ]
    }
   ],
   "source": [
    "c2 = pd.read_csv(\"output-84.csv\").to_numpy()\n",
    "cnt = 0\n",
    "for i in range(c1.shape[0]):\n",
    "    if(c1[i][1]!=c2[i][1]):\n",
    "        print(c1[i],c2[i])\n",
    "        cnt += 1\n",
    "print(cnt)"
   ]
  },
  {
   "cell_type": "code",
   "execution_count": 310,
   "metadata": {},
   "outputs": [
    {
     "name": "stdout",
     "output_type": "stream",
     "text": [
      "[0 'Mango_Raw'] [0 'Leeche_Raw']\n",
      "[6 'Orange_Ripe'] [6 'Coconut_Ripe']\n",
      "[18 'Papaya_Ripe'] [18 'Mango_Ripe']\n",
      "[19 'Orange_Raw'] [19 'Mango_Raw']\n",
      "[23 'Pomengranate_Raw'] [23 'Coconut_Ripe']\n",
      "[53 'Mango_Ripe'] [53 'Guava_Ripe']\n",
      "[73 'Papaya_Ripe'] [73 'Papaya_Raw']\n",
      "[81 'Orange_Ripe'] [81 'Mango_Raw']\n",
      "[105 'Pomengranate_Ripe'] [105 'Apple_Ripe']\n",
      "[107 'Papaya_Ripe'] [107 'Mango_Ripe']\n",
      "[124 'Guava_Raw'] [124 'Orange_Raw']\n",
      "[128 'Apple_Raw'] [128 'Apple_Ripe']\n",
      "[135 'Banana_Raw'] [135 'Orange_Ripe']\n",
      "[143 'Orange_Raw'] [143 'Guava_Raw']\n",
      "[145 'Coconut_Raw'] [145 'Papaya_Raw']\n",
      "[149 'Leeche_Raw'] [149 'Pomengranate_Raw']\n",
      "[161 'Papaya_Ripe'] [161 'Strawberry_Raw']\n",
      "[183 'Papaya_Raw'] [183 'Mango_Raw']\n",
      "[188 'Mango_Ripe'] [188 'Coconut_Raw']\n",
      "[211 'Papaya_Ripe'] [211 'Strawberry_Ripe']\n",
      "[216 'Banana_Raw'] [216 'Apple_Raw']\n",
      "[221 'Coconut_Ripe'] [221 'Papaya_Ripe']\n",
      "[235 'Guava_Raw'] [235 'Papaya_Raw']\n",
      "[240 'Guava_Raw'] [240 'Orange_Raw']\n",
      "[250 'Orange_Raw'] [250 'Papaya_Raw']\n",
      "[253 'Apple_Raw'] [253 'Pomengranate_Raw']\n",
      "[273 'Papaya_Ripe'] [273 'Strawberry_Raw']\n",
      "[276 'Mango_Ripe'] [276 'Orange_Ripe']\n",
      "[294 'Banana_Raw'] [294 'Mango_Raw']\n",
      "[314 'Papaya_Raw'] [314 'Papaya_Ripe']\n",
      "[317 'Strawberry_Raw'] [317 'Strawberry_Ripe']\n",
      "[329 'Coconut_Ripe'] [329 'Apple_Raw']\n",
      "[332 'Papaya_Ripe'] [332 'Papaya_Raw']\n",
      "[336 'Coconut_Raw'] [336 'Orange_Raw']\n",
      "[343 'Guava_Ripe'] [343 'Apple_Raw']\n",
      "[348 'Leeche_Ripe'] [348 'Leeche_Raw']\n",
      "[378 'Apple_Raw'] [378 'Guava_Ripe']\n",
      "[390 'Banana_Ripe'] [390 'Banana_Raw']\n",
      "38\n"
     ]
    }
   ],
   "source": [
    "c2 = pd.read_csv(\"output-s1.csv\").to_numpy()\n",
    "cnt = 0\n",
    "for i in range(c1.shape[0]):\n",
    "    if(c1[i][1]!=c2[i][1]):\n",
    "        print(c1[i],c2[i])\n",
    "        cnt += 1\n",
    "print(cnt)"
   ]
  },
  {
   "cell_type": "code",
   "execution_count": 311,
   "metadata": {},
   "outputs": [
    {
     "name": "stdout",
     "output_type": "stream",
     "text": [
      "[0 'Mango_Raw'] [0 'Leeche_Raw']\n",
      "[6 'Orange_Ripe'] [6 'Coconut_Ripe']\n",
      "[18 'Papaya_Ripe'] [18 'Mango_Ripe']\n",
      "[19 'Orange_Raw'] [19 'Mango_Raw']\n",
      "[73 'Papaya_Ripe'] [73 'Papaya_Raw']\n",
      "[81 'Orange_Ripe'] [81 'Mango_Raw']\n",
      "[84 'Guava_Raw'] [84 'Papaya_Raw']\n",
      "[105 'Pomengranate_Ripe'] [105 'Apple_Ripe']\n",
      "[107 'Papaya_Ripe'] [107 'Mango_Ripe']\n",
      "[124 'Guava_Raw'] [124 'Orange_Raw']\n",
      "[128 'Apple_Raw'] [128 'Apple_Ripe']\n",
      "[135 'Banana_Raw'] [135 'Orange_Ripe']\n",
      "[145 'Coconut_Raw'] [145 'Papaya_Raw']\n",
      "[149 'Leeche_Raw'] [149 'Pomengranate_Raw']\n",
      "[161 'Papaya_Ripe'] [161 'Strawberry_Raw']\n",
      "[183 'Papaya_Raw'] [183 'Mango_Raw']\n",
      "[188 'Mango_Ripe'] [188 'Coconut_Raw']\n",
      "[211 'Papaya_Ripe'] [211 'Strawberry_Ripe']\n",
      "[221 'Coconut_Ripe'] [221 'Papaya_Ripe']\n",
      "[235 'Guava_Raw'] [235 'Papaya_Raw']\n",
      "[240 'Guava_Raw'] [240 'Orange_Raw']\n",
      "[250 'Orange_Raw'] [250 'Papaya_Raw']\n",
      "[253 'Apple_Raw'] [253 'Pomengranate_Raw']\n",
      "[273 'Papaya_Ripe'] [273 'Mango_Ripe']\n",
      "[276 'Mango_Ripe'] [276 'Orange_Ripe']\n",
      "[294 'Banana_Raw'] [294 'Mango_Raw']\n",
      "[317 'Strawberry_Raw'] [317 'Strawberry_Ripe']\n",
      "[332 'Papaya_Ripe'] [332 'Papaya_Raw']\n",
      "[336 'Coconut_Raw'] [336 'Orange_Raw']\n",
      "[343 'Guava_Ripe'] [343 'Apple_Raw']\n",
      "[348 'Leeche_Ripe'] [348 'Leeche_Raw']\n",
      "[390 'Banana_Ripe'] [390 'Banana_Raw']\n",
      "[411 'Apple_Raw'] [411 'Mango_Ripe']\n",
      "33\n"
     ]
    }
   ],
   "source": [
    "c2 = pd.read_csv(\"output-s2.csv\").to_numpy()\n",
    "cnt = 0\n",
    "for i in range(c1.shape[0]):\n",
    "    if(c1[i][1]!=c2[i][1]):\n",
    "        print(c1[i],c2[i])\n",
    "        cnt += 1\n",
    "print(cnt)"
   ]
  }
 ],
 "metadata": {
  "interpreter": {
   "hash": "aee8b7b246df8f9039afb4144a1f6fd8d2ca17a180786b69acc140d282b71a49"
  },
  "kernelspec": {
   "display_name": "Python 3.10.4 64-bit",
   "language": "python",
   "name": "python3"
  },
  "language_info": {
   "codemirror_mode": {
    "name": "ipython",
    "version": 3
   },
   "file_extension": ".py",
   "mimetype": "text/x-python",
   "name": "python",
   "nbconvert_exporter": "python",
   "pygments_lexer": "ipython3",
   "version": "3.10.4"
  },
  "orig_nbformat": 4
 },
 "nbformat": 4,
 "nbformat_minor": 2
}
