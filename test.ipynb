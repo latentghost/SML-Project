{
 "cells": [
  {
   "cell_type": "code",
   "execution_count": 166,
   "metadata": {},
   "outputs": [
    {
     "name": "stdout",
     "output_type": "stream",
     "text": [
      "[18 'Mango_Ripe'] [18 'Papaya_Ripe']\n",
      "[34 'Coconut_Raw'] [34 'Mango_Raw']\n",
      "[72 'Coconut_Raw'] [72 'Mango_Ripe']\n",
      "[149 'Leeche_Raw'] [149 'Pomengranate_Raw']\n",
      "[273 'Mango_Ripe'] [273 'Strawberry_Raw']\n",
      "[329 'Coconut_Ripe'] [329 'Apple_Raw']\n",
      "[343 'Coconut_Raw'] [343 'Apple_Raw']\n",
      "7\n"
     ]
    }
   ],
   "source": [
    "import pandas as pd\n",
    "c1 = pd.read_csv(\"output.csv\").to_numpy()\n",
    "c2 = pd.read_csv(\"output-84.5.csv\").to_numpy()\n",
    "cnt = 0\n",
    "for i in range(c1.shape[0]):\n",
    "    if(c1[i][1]!=c2[i][1]):\n",
    "        print(c1[i],c2[i])\n",
    "        cnt += 1\n",
    "print(cnt)"
   ]
  }
 ],
 "metadata": {
  "interpreter": {
   "hash": "aee8b7b246df8f9039afb4144a1f6fd8d2ca17a180786b69acc140d282b71a49"
  },
  "kernelspec": {
   "display_name": "Python 3.10.4 64-bit",
   "language": "python",
   "name": "python3"
  },
  "language_info": {
   "codemirror_mode": {
    "name": "ipython",
    "version": 3
   },
   "file_extension": ".py",
   "mimetype": "text/x-python",
   "name": "python",
   "nbconvert_exporter": "python",
   "pygments_lexer": "ipython3",
   "version": "3.10.4"
  },
  "orig_nbformat": 4
 },
 "nbformat": 4,
 "nbformat_minor": 2
}
